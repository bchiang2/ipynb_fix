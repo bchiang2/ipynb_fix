{
 "cells": [
  {
   "cell_type": "code",
   "execution_count": 1,
   "id": "bb1d0b24",
   "metadata": {},
   "outputs": [
    {
     "name": "stdout",
     "output_type": "stream",
     "text": [
      "Valid notebook\n"
     ]
    }
   ],
   "source": [
    "print(\"Valid notebook\")"
   ]
   LET'S BREAK THIS NOTEBOOK
  },
  {
   "cell_type": "code",
   "execution_count": null,
   "id": "aa06038c",
   "metadata": {},
   "outputs": [],
   "source": [
    "print(\"Hello?\")"
   ]
  },
  {
   "cell_type": "code",
   "execution_count": null,
   "id": "cf3de395",
   "metadata": {},
   "outputs": [],
   "source": []
  }
 ],
 "metadata": {
  "kernelspec": {
   "display_name": "Python 3 (ipykernel)",
   "language": "python",
   "name": "python3"
  },
  "language_info": {
   "codemirror_mode": {
    "name": "ipython",
    "version": 3
   },
   "file_extension": ".py",
   "mimetype": "text/x-python",
   "name": "python",
   "nbconvert_exporter": "python",
   "pygments_lexer": "ipython3",
   "version": "3.9.16"
  }
 },
 "nbformat": 4,
 "nbformat_minor": 5
}
